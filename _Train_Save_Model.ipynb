{
 "cells": [
  {
   "cell_type": "code",
   "execution_count": 1,
   "metadata": {},
   "outputs": [],
   "source": [
    "# How to train and save your model\n",
    "import pandas as pd\n",
    "from sklearn.tree import DecisionTreeClassifier\n",
    "from sklearn.preprocessing import LabelEncoder\n",
    "import joblib"
   ]
  },
  {
   "cell_type": "code",
   "execution_count": 2,
   "metadata": {},
   "outputs": [],
   "source": [
    "data = pd.read_csv(\"../DataSets/drug200.csv\")\n",
    "\n",
    "Age = LabelEncoder()\n",
    "Sex = LabelEncoder()\n",
    "BP = LabelEncoder()\n",
    "Cholesterol = LabelEncoder()\n",
    "Na_to_K = LabelEncoder()\n",
    "Drug = LabelEncoder()"
   ]
  },
  {
   "cell_type": "code",
   "execution_count": 3,
   "metadata": {},
   "outputs": [],
   "source": [
    "\n",
    "data['Sex'] = Sex.fit_transform(data['Sex'])\n",
    "data['BP'] = BP.fit_transform(data['BP'])\n",
    "data['Cholesterol'] = Cholesterol.fit_transform(data['Cholesterol'])\n",
    "data['Drug'] = Drug.fit_transform(data['Drug'])\n",
    "data['Na_to_K'] = data['Na_to_K'].astype('int64')"
   ]
  },
  {
   "cell_type": "code",
   "execution_count": 4,
   "metadata": {},
   "outputs": [],
   "source": [
    "feature_cols = ['Age', 'Sex', 'Drug']\n",
    "dependent_cols = ['BP', 'Cholesterol', 'Na_to_K']\n",
    "X = data[feature_cols]\n",
    "y = data[dependent_cols]"
   ]
  },
  {
   "cell_type": "code",
   "execution_count": 5,
   "metadata": {},
   "outputs": [
    {
     "data": {
      "text/plain": [
       "['foodie.joblib']"
      ]
     },
     "execution_count": 5,
     "metadata": {},
     "output_type": "execute_result"
    }
   ],
   "source": [
    "\n",
    "model = DecisionTreeClassifier().fit(X,y)\n",
    "joblib.dump(model,'foodie.joblib')"
   ]
  }
 ],
 "metadata": {
  "kernelspec": {
   "display_name": "Python 3",
   "language": "python",
   "name": "python3"
  },
  "language_info": {
   "codemirror_mode": {
    "name": "ipython",
    "version": 3
   },
   "file_extension": ".py",
   "mimetype": "text/x-python",
   "name": "python",
   "nbconvert_exporter": "python",
   "pygments_lexer": "ipython3",
   "version": "3.11.3"
  },
  "orig_nbformat": 4
 },
 "nbformat": 4,
 "nbformat_minor": 2
}
