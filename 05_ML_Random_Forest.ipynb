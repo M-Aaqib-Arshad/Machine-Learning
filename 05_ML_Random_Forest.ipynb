{
 "cells": [
  {
   "attachments": {},
   "cell_type": "markdown",
   "metadata": {},
   "source": [
    "# Random Forest Tree\n",
    "- Making multiple Random Decision Tree\n",
    "- Random means\n",
    "   - Making multiple data sets from Original Data sets\n",
    "- Random Sampling and replacing\n",
    "- Same Number of rows\n",
    "- Bootstraping:\n",
    "   - Split dataset into different datasets, then randomly replace the items  "
   ]
  },
  {
   "cell_type": "code",
   "execution_count": null,
   "metadata": {},
   "outputs": [],
   "source": []
  }
 ],
 "metadata": {
  "language_info": {
   "name": "python"
  },
  "orig_nbformat": 4
 },
 "nbformat": 4,
 "nbformat_minor": 2
}
